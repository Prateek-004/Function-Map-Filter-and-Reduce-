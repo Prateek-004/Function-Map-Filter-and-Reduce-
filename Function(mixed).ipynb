{
 "cells": [
  {
   "cell_type": "markdown",
   "id": "ee060b69-434b-448f-9467-8302c8b51586",
   "metadata": {},
   "source": [
    "# Function (mixed):"
   ]
  },
  {
   "cell_type": "markdown",
   "id": "313f3d46-c417-477c-8650-4b798fcab817",
   "metadata": {},
   "source": [
    "##### Q.1 Suppose a dictionary contains type of pet (cat, dog, etc), name of pet and age of pet . Write a program that obtains the sum of all dog's ages .  "
   ]
  },
  {
   "cell_type": "code",
   "execution_count": 19,
   "id": "ddadefa3-6523-4b6a-8993-073abd2d61ce",
   "metadata": {},
   "outputs": [
    {
     "name": "stdout",
     "output_type": "stream",
     "text": [
      "Total of dogs' age:  13\n"
     ]
    }
   ],
   "source": [
    "from functools import reduce\n",
    "\n",
    "lst = [\n",
    "    {\"type\": \"dog\", \"name\": \"Bruno\", \"age\": 5},\n",
    "    {\"type\": \"cat\", \"name\": \"Whiskers\", \"age\": 3},\n",
    "    {\"type\": \"dog\", \"name\": \"Max\", \"age\": 2},\n",
    "    {\"type\": \"parrot\", \"name\": \"Polly\", \"age\": 4},\n",
    "    {\"type\": \"dog\", \"name\": \"Rocky\", \"age\": 6}\n",
    "]\n",
    "\n",
    "total = reduce(lambda x,y:x+y['age'],filter(lambda x: x[\"type\"]==\"dog\",lst),0) # adding the age of all the dogs using reduce after filtering their type\n",
    "print('Total of dogs\\' age: ',total)"
   ]
  },
  {
   "cell_type": "markdown",
   "id": "e6628f1a-f2a8-4fed-9660-635faacd27c2",
   "metadata": {},
   "source": [
    "<h5> Q.2 Consider the following list:\n",
    "    <br>  lst = [1.25, 3.22, 4.68, 10.95, 32.55, 12.54]\n",
    "    <br>The number in the list represent radii of circles. write a program to obtain a list of areas of these circles round off to two decimal places.</h5>"
   ]
  },
  {
   "cell_type": "code",
   "execution_count": 18,
   "id": "db6741ec-f578-41c7-baf7-e3329220d65d",
   "metadata": {},
   "outputs": [
    {
     "name": "stdout",
     "output_type": "stream",
     "text": [
      "[4.91, 32.56, 68.77, 376.49, 3326.84, 493.77]\n"
     ]
    }
   ],
   "source": [
    "lst =  [1.25, 3.22, 4.68, 10.95, 32.55, 12.54]\n",
    "area = list(map(lambda x:round((3.14*(x**2)),2),lst)) # applying formula π(r)**2 and then round off it to the 2 decimal and storing in a list\n",
    "print(area)"
   ]
  },
  {
   "cell_type": "markdown",
   "id": "c387bc0f-0c4b-47fc-b8d0-e17dfaa3c81e",
   "metadata": {},
   "source": [
    "<h5> Q.3 Consider the following lists:\n",
    "    <br> nums = [10,20,30,40,50,60,70,80]\n",
    "    <br> strs = ['A','B','C','D','E','F','G','H']\n",
    "    <br> Write a program to obtain a list of tuples, where each tuple contains a number from one list and a string from another, in the same order in which they appear in the original lists.<h5>"
   ]
  },
  {
   "cell_type": "code",
   "execution_count": 15,
   "id": "2fe5a0f1-ff19-4975-a7d3-78e4104080bf",
   "metadata": {},
   "outputs": [
    {
     "name": "stdout",
     "output_type": "stream",
     "text": [
      "[(10, 'A'), (20, 'B'), (30, 'C'), (40, 'D'), (50, 'E'), (60, 'F'), (70, 'G'), (80, 'H')]\n"
     ]
    }
   ],
   "source": [
    "nums = [10,20,30,40,50,60,70,80]\n",
    "strs = ['A','B','C','D','E','F','G','H']\n",
    "\n",
    "add_lst = list(map(lambda x,y:(x,y),nums,strs)) # creating a tuple carrying a word from both nums and strs list\n",
    "print(add_lst)"
   ]
  },
  {
   "cell_type": "markdown",
   "id": "0d292d9a-f95c-44de-bb1f-300731280ff2",
   "metadata": {},
   "source": [
    "##### Q.4 Suppose a dictionary contains names of students and marks obtained by them in an examination. Write a program to obtain a list of students who obtained more than 40 marks in the examination ."
   ]
  },
  {
   "cell_type": "code",
   "execution_count": 25,
   "id": "24c0c8eb-bf5b-49d0-bd78-e5dc55ceb4dd",
   "metadata": {},
   "outputs": [
    {
     "name": "stdout",
     "output_type": "stream",
     "text": [
      "[('Bob', 42), ('Charlie', 50), ('Eve', 60)]\n"
     ]
    }
   ],
   "source": [
    "student_marks = {\"Alice\": 35,\"Bob\": 42,\"Charlie\": 50,\"David\": 39,\"Eve\": 60,\"Frank\": 28}\n",
    "student_list = list(filter (lambda x:int(x[1])>40,student_marks.items())) # filtering all the students who got more than 40 marks\n",
    "print(student_list)\n"
   ]
  },
  {
   "cell_type": "markdown",
   "id": "df122970-66df-41b0-b987-c3bb92629c86",
   "metadata": {},
   "source": [
    "<h5> Q.5 Consider the following list:\n",
    "    <br>lst = ['Malayalam','Drawing','madamlamadam','1234321']\n",
    "    <br>write a program to print those strings which are palindromes .<h5>"
   ]
  },
  {
   "cell_type": "code",
   "execution_count": 24,
   "id": "8b6d70a0-92fd-43e5-a16e-b033f483df4c",
   "metadata": {},
   "outputs": [
    {
     "name": "stdout",
     "output_type": "stream",
     "text": [
      "The palidrome numbers are:  ['Malayalam', '1234321']\n"
     ]
    }
   ],
   "source": [
    "lst = ['Malayalam','Drawing','madamlamadam','1234321']\n",
    "reversed_lst = list(filter(lambda x:x.lower()==(\"\".join(reversed(x))).lower(),lst)) # finding which string is equal to it's reverse string\n",
    "print('The palidrome numbers are: ',reversed_lst)"
   ]
  },
  {
   "cell_type": "markdown",
   "id": "1ce8b54f-dc65-4f55-bb3e-f928772acb43",
   "metadata": {},
   "source": [
    "##### Q.6 A list contains names of employees . Write a program to filter out those names whose length is more than 8 characters ."
   ]
  },
  {
   "cell_type": "code",
   "execution_count": 17,
   "id": "075165b5-e5b8-4ae6-9670-10b8f1037135",
   "metadata": {},
   "outputs": [
    {
     "name": "stdout",
     "output_type": "stream",
     "text": [
      "The list of words whose length is greater than 8 is:  ['Christopher', 'Stephanie', 'Elizabeth']\n"
     ]
    }
   ],
   "source": [
    "employees = ['Jonathan', 'Alice', 'Christopher', 'Bob', 'Stephanie', 'Raj', 'Elizabeth']\n",
    "upper_than_8 = list(filter(lambda x:len(x)>8,employees))  # checkinging the name whose length is more than 8\n",
    "print(\"The list of words whose length is greater than 8 is: \",upper_than_8)"
   ]
  },
  {
   "cell_type": "markdown",
   "id": "8aa7962c-a59a-4ab6-b2d2-c4aef0457999",
   "metadata": {},
   "source": [
    "<h5> Q.7 A dictionary contains following information about 5 employees:\n",
    "    <br> First name\n",
    "    <br> Last name \n",
    "    <br> Age\n",
    "    <br> Grade (Skilled, Semi-skilled, Highly-skilled)\n",
    "    <br> Write a program to obtain a list of employees (first name + last name) who are highly-skilled . </h5>"
   ]
  },
  {
   "cell_type": "code",
   "execution_count": 23,
   "id": "012e4e34-249f-4624-bd19-6768535fd97c",
   "metadata": {},
   "outputs": [
    {
     "name": "stdout",
     "output_type": "stream",
     "text": [
      "The Highly-skilled employees are:  ['Alice Smith', 'Charlie Brown']\n"
     ]
    }
   ],
   "source": [
    "employees = [\n",
    "    {\"first_name\": \"Alice\", \"last_name\": \"Smith\", \"age\": 30, \"grade\": \"Highly-skilled\"},\n",
    "    {\"first_name\": \"Bob\", \"last_name\": \"Johnson\", \"age\": 25, \"grade\": \"Skilled\"},\n",
    "    {\"first_name\": \"Charlie\", \"last_name\": \"Brown\", \"age\": 28, \"grade\": \"Highly-skilled\"},\n",
    "    {\"first_name\": \"David\", \"last_name\": \"Lee\", \"age\": 35, \"grade\": \"Semi-skilled\"},\n",
    "    {\"first_name\": \"Eva\", \"last_name\": \"Wilson\", \"age\": 27, \"grade\": \"Skilled\"}\n",
    "]\n",
    "\n",
    "filtered_list = list(filter(lambda x:x[\"grade\"].lower()=='highly-skilled',employees)) # return a list of highly-skilled employee  \n",
    "name = list(map(lambda x: x[\"first_name\"]+\" \"+x['last_name'], filtered_list)) # adding the first and last name of the employees of filtered_list\n",
    "print(\"The Highly-skilled employees are: \",name)"
   ]
  },
  {
   "cell_type": "markdown",
   "id": "5868344b-654f-4a3e-83d1-faf09b884620",
   "metadata": {},
   "source": [
    "<h5> Q.8 Consider the following list:\n",
    "    <br> lst = ['Benevolent','Dictator','For','Life']\n",
    "    <br> Write a program to obtain a string 'Benevolent Dictator For Life' ."
   ]
  },
  {
   "cell_type": "code",
   "execution_count": 25,
   "id": "110fbdf2-ee51-45a2-b909-acb2018bf777",
   "metadata": {},
   "outputs": [
    {
     "name": "stdout",
     "output_type": "stream",
     "text": [
      "The Concatenation of the strings is:  Benevolent Dictator For Life\n"
     ]
    }
   ],
   "source": [
    "from functools import reduce\n",
    "\n",
    "lst = ['Benevolent','Dictator','For','Life']\n",
    "add_lst = reduce(lambda x,y:x+\" \"+y,lst) # adding each string to each other using reduce function\n",
    "print('The Concatenation of the strings is: ',add_lst)"
   ]
  },
  {
   "cell_type": "markdown",
   "id": "61af61fa-381f-4d28-9a76-973b2e987085",
   "metadata": {},
   "source": [
    "<h5> Q.9 Consider the following list of students in a class .\n",
    "    <br> lst = ['Rahul','Priya','Chaaya','Narendra','Prashant']\n",
    "    <br> Write a program to obtain a list in which all the names are conversted to uppercase ."
   ]
  },
  {
   "cell_type": "code",
   "execution_count": 26,
   "id": "7a02bc88-1085-4b35-86f5-8a4b6d3e6270",
   "metadata": {},
   "outputs": [
    {
     "name": "stdout",
     "output_type": "stream",
     "text": [
      "Upper case of lst:  ['RAHUL', 'PRIYA', 'CHAAYA', 'NARENDRA', 'PRASHANT']\n"
     ]
    }
   ],
   "source": [
    "lst = ['Rahul','Priya','Chaaya','Narendra','Prashant']\n",
    "upper_lst = list(map(lambda x:x.upper(),lst)) # using upper() to convert the words to uppercase\n",
    "print('Upper case of lst: ',upper_lst)"
   ]
  }
 ],
 "metadata": {
  "kernelspec": {
   "display_name": "Python 3 (ipykernel)",
   "language": "python",
   "name": "python3"
  },
  "language_info": {
   "codemirror_mode": {
    "name": "ipython",
    "version": 3
   },
   "file_extension": ".py",
   "mimetype": "text/x-python",
   "name": "python",
   "nbconvert_exporter": "python",
   "pygments_lexer": "ipython3",
   "version": "3.13.5"
  }
 },
 "nbformat": 4,
 "nbformat_minor": 5
}
